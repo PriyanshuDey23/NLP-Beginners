{
 "cells": [
  {
   "cell_type": "code",
   "execution_count": 1,
   "metadata": {
    "colab": {
     "base_uri": "https://localhost:8080/"
    },
    "id": "s3D6xGNnvkeL",
    "outputId": "f7f73eb0-4c77-49a7-9270-0c96632f2abe"
   },
   "outputs": [
    {
     "ename": "ModuleNotFoundError",
     "evalue": "No module named 'tensorflow'",
     "output_type": "error",
     "traceback": [
      "\u001b[1;31m---------------------------------------------------------------------------\u001b[0m",
      "\u001b[1;31mModuleNotFoundError\u001b[0m                       Traceback (most recent call last)",
      "Cell \u001b[1;32mIn[1], line 1\u001b[0m\n\u001b[1;32m----> 1\u001b[0m \u001b[38;5;28;01mimport\u001b[39;00m \u001b[38;5;21;01mtensorflow\u001b[39;00m \u001b[38;5;28;01mas\u001b[39;00m \u001b[38;5;21;01mtf\u001b[39;00m\n\u001b[0;32m      2\u001b[0m \u001b[38;5;28mprint\u001b[39m(tf\u001b[38;5;241m.\u001b[39m__version__)\n",
      "\u001b[1;31mModuleNotFoundError\u001b[0m: No module named 'tensorflow'"
     ]
    }
   ],
   "source": [
    "import tensorflow as tf\n",
    "print(tf.__version__)"
   ]
  },
  {
   "cell_type": "code",
   "execution_count": null,
   "metadata": {
    "id": "zOlwqxvZv7vg"
   },
   "outputs": [],
   "source": [
    "## OHE- One hot encoding\n",
    "from tensorflow.keras.preprocessing.text import one_hot"
   ]
  },
  {
   "cell_type": "code",
   "execution_count": null,
   "metadata": {
    "id": "t1513xGEwawr"
   },
   "outputs": [],
   "source": [
    "### sentences (convert )\n",
    "sent= ['the glass of milk',\n",
    "       'the glass of juice',\n",
    "       'the cup of tea',\n",
    "       'I am a good boy',\n",
    "       'I am a good developer',\n",
    "       'understand the meaning of words',\n",
    "       'yours videoes are good']"
   ]
  },
  {
   "cell_type": "code",
   "execution_count": null,
   "metadata": {
    "id": "lHF3ETNWzxM9"
   },
   "outputs": [],
   "source": [
    "# we ohe on top of the sentences and later on convert this into vectors"
   ]
  },
  {
   "cell_type": "code",
   "execution_count": null,
   "metadata": {
    "colab": {
     "base_uri": "https://localhost:8080/"
    },
    "id": "4sMO31Dy0HQF",
    "outputId": "7231b0f5-d823-4876-e2d5-f309b1c23324"
   },
   "outputs": [],
   "source": [
    "sent"
   ]
  },
  {
   "cell_type": "code",
   "execution_count": null,
   "metadata": {
    "id": "O4chLs9A0IX4"
   },
   "outputs": [],
   "source": [
    "## vocabulary size(inorder to convert this sentences into vectors, initialize the vocabulary)\n",
    "voc_size=10000 # train the sentences with vocabulary of 10000"
   ]
  },
  {
   "cell_type": "code",
   "execution_count": null,
   "metadata": {
    "id": "bPBCcStJ0R95"
   },
   "outputs": [],
   "source": [
    "## now in order to convert this words into one hot encoding using this vocabulary size\n"
   ]
  },
  {
   "cell_type": "code",
   "execution_count": null,
   "metadata": {
    "id": "MpIrYdYh1omJ"
   },
   "outputs": [],
   "source": [
    "## we are gonna use ohe and convert it into indexing and capture the indexing with 1 vector(see the copy)\n",
    "##when ever are getting 1 , basically we are getting the indexing (copy)"
   ]
  },
  {
   "cell_type": "markdown",
   "metadata": {
    "id": "Xssno8KPP7Lz"
   },
   "source": [
    "One hot encoding Representation\n"
   ]
  },
  {
   "cell_type": "code",
   "execution_count": null,
   "metadata": {
    "colab": {
     "base_uri": "https://localhost:8080/"
    },
    "id": "YiP6ksk321Vr",
    "outputId": "eca1e98e-5a54-46e6-e661-ad5559cee035"
   },
   "outputs": [],
   "source": [
    "onehot_repr=[one_hot(words,voc_size) for words in sent] #capture index\n",
    "print(onehot_repr) # for each and every word i will have the index numberfor each sentences\n",
    "# only the last index of first 2 sentencs are changing"
   ]
  },
  {
   "cell_type": "code",
   "execution_count": null,
   "metadata": {
    "id": "yfBTWrFMRDvz"
   },
   "outputs": [],
   "source": [
    "# every sentences are of diferent size\n",
    "#while training in neural network all the sentences sizes should be equal\n",
    "# step 3 :- Post padding and prepadding(copy)\n",
    "# embedding layers"
   ]
  },
  {
   "cell_type": "markdown",
   "metadata": {
    "id": "OKP7MnteUtuG"
   },
   "source": [
    "Word Embedding Representation"
   ]
  },
  {
   "cell_type": "code",
   "execution_count": null,
   "metadata": {
    "id": "Kw2tEGlzUyod"
   },
   "outputs": [],
   "source": [
    "from tensorflow.keras.layers import Embedding\n",
    "from  tensorflow.keras.preprocessing.sequence import pad_sequences\n",
    "from tensorflow.keras.models import Sequential"
   ]
  },
  {
   "cell_type": "code",
   "execution_count": null,
   "metadata": {
    "id": "0O1aHqmTcei1"
   },
   "outputs": [],
   "source": [
    "import numpy as np"
   ]
  },
  {
   "cell_type": "code",
   "execution_count": null,
   "metadata": {
    "colab": {
     "base_uri": "https://localhost:8080/"
    },
    "id": "Kb86Z3yZcjeR",
    "outputId": "042cad87-8d48-47c8-d95d-c2344635d333"
   },
   "outputs": [],
   "source": [
    "#in order to make all the sentences equal size and length (eitheryou add 0at first or a last)\n",
    "sen_length=8\n",
    "embedded_docs=pad_sequences(onehot_repr,padding='pre',maxlen=sen_length)\n",
    "print(embedded_docs)\n",
    "#pad_sequences will convert the vector (sentences) of 5 or 6 into 8 vectors\n",
    "# pre pading - adding 0 before the sentences\n",
    "# post pading - adding 0 after the sentences\n",
    "# now our input size is fix"
   ]
  },
  {
   "cell_type": "code",
   "execution_count": null,
   "metadata": {
    "id": "UhKZtMK2dXYd"
   },
   "outputs": [],
   "source": [
    "# how to convert each and every value(word ) with a vectors (copy)"
   ]
  },
  {
   "cell_type": "code",
   "execution_count": null,
   "metadata": {
    "id": "eRRhohnvkC-F"
   },
   "outputs": [],
   "source": [
    "# feature representation dimension\n",
    "dim=10"
   ]
  },
  {
   "cell_type": "code",
   "execution_count": null,
   "metadata": {
    "id": "pr_xB19IkDBJ"
   },
   "outputs": [],
   "source": [
    "#sequential model\n",
    "model=Sequential()\n",
    "model.add(Embedding(voc_size,10,input_length=sen_length))\n",
    "model.compile('adam','mse')\n",
    "# here embedding layer will work similar to word 2 vec  and it is going to train all neural network\n",
    "# voc = vocabulary size\n",
    "# 10- how many features (how many vectors for each word)\n",
    "#input length = sentence length\n",
    "#adam - optimeser\n",
    "#mse-mean square error"
   ]
  },
  {
   "cell_type": "code",
   "execution_count": null,
   "metadata": {
    "colab": {
     "base_uri": "https://localhost:8080/"
    },
    "id": "_0-Npz4UkDEi",
    "outputId": "9fd5a022-c5dc-45db-8038-d9666a996059"
   },
   "outputs": [],
   "source": [
    "model.summary() # 8-sentance length, 10-dimension,10000 -vocabulary"
   ]
  },
  {
   "cell_type": "code",
   "execution_count": null,
   "metadata": {
    "colab": {
     "base_uri": "https://localhost:8080/"
    },
    "id": "hjUuN-kvqaha",
    "outputId": "9afe1868-07c2-4f42-d163-051a5be3e083"
   },
   "outputs": [],
   "source": [
    "#my first sentence(\"the glass of milk\")\n",
    "embedded_docs[0]"
   ]
  },
  {
   "cell_type": "code",
   "execution_count": null,
   "metadata": {
    "colab": {
     "base_uri": "https://localhost:8080/"
    },
    "id": "F8MpwB9E0xqk",
    "outputId": "13f450bc-d25e-425e-a724-47f909ad69f8"
   },
   "outputs": [],
   "source": [
    "#my 10 features\n",
    "model.predict(embedded_docs[0]) # 8 words contains 10 vectors each  (0 means first sentences)"
   ]
  },
  {
   "cell_type": "code",
   "execution_count": null,
   "metadata": {
    "colab": {
     "base_uri": "https://localhost:8080/"
    },
    "id": "7yNnwa_z0xxK",
    "outputId": "33eefbf7-d5d1-40a5-b0d2-f98b332bed18"
   },
   "outputs": [],
   "source": [
    "# for all the sentences\n",
    "model.predict(embedded_docs)"
   ]
  },
  {
   "cell_type": "code",
   "execution_count": null,
   "metadata": {
    "id": "jG4OEKcM2iUr"
   },
   "outputs": [],
   "source": []
  }
 ],
 "metadata": {
  "accelerator": "GPU",
  "colab": {
   "gpuType": "T4",
   "provenance": []
  },
  "kernelspec": {
   "display_name": "Python 3 (ipykernel)",
   "language": "python",
   "name": "python3"
  },
  "language_info": {
   "codemirror_mode": {
    "name": "ipython",
    "version": 3
   },
   "file_extension": ".py",
   "mimetype": "text/x-python",
   "name": "python",
   "nbconvert_exporter": "python",
   "pygments_lexer": "ipython3",
   "version": "3.10.9"
  }
 },
 "nbformat": 4,
 "nbformat_minor": 1
}
