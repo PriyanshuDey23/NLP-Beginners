{
 "cells": [
  {
   "cell_type": "code",
   "execution_count": 1,
   "id": "371b35ab",
   "metadata": {},
   "outputs": [
    {
     "name": "stdout",
     "output_type": "stream",
     "text": [
      "Requirement already satisfied: nltk in c:\\users\\hp\\anaconda3\\lib\\site-packages (3.7)\n",
      "Requirement already satisfied: tqdm in c:\\users\\hp\\anaconda3\\lib\\site-packages (from nltk) (4.64.1)\n",
      "Requirement already satisfied: click in c:\\users\\hp\\anaconda3\\lib\\site-packages (from nltk) (8.0.4)\n",
      "Requirement already satisfied: joblib in c:\\users\\hp\\anaconda3\\lib\\site-packages (from nltk) (1.1.1)\n",
      "Requirement already satisfied: regex>=2021.8.3 in c:\\users\\hp\\anaconda3\\lib\\site-packages (from nltk) (2022.7.9)\n",
      "Requirement already satisfied: colorama in c:\\users\\hp\\anaconda3\\lib\\site-packages (from click->nltk) (0.4.6)\n"
     ]
    }
   ],
   "source": [
    "!pip install nltk"
   ]
  },
  {
   "cell_type": "code",
   "execution_count": 2,
   "id": "5c8288c7",
   "metadata": {},
   "outputs": [],
   "source": [
    "#in paragraph we are using multi line comment i.e  \"\"\" \"\"\"\n",
    "paragraph=\"\"\"Narendra Damodardas Modi (Gujarati: [ˈnəɾendɾə dɑmodəɾˈdɑs ˈmodiː] (listen); born 17 September 1950)[b] is an Indian politician who has served as the 14th Prime Minister of India since May 2014. Modi was the Chief Minister of Gujarat from 2001 to 2014 and is the Member of Parliament (MP) for Varanasi. He is a member of the Bharatiya Janata Party (BJP) and of the Rashtriya Swayamsevak Sangh (RSS), a right-wing Hindu nationalist paramilitary volunteer organisation. He is the longest-serving prime minister from outside the Indian National Congress.\n",
    "\n",
    "Modi was born and raised in Vadnagar in northeastern Gujarat, where he completed his secondary education. He was introduced to the RSS at age eight. His account of helping his father sell tea at the Vadnagar railway station has not been reliably corroborated. At age 18, he was married to Jashodaben Modi, whom he abandoned soon after, only publicly acknowledging her four decades later when legally required to do so. Modi became a full-time worker for the RSS in Gujarat in 1971. The RSS assigned him to the BJP in 1985 and he held several positions within the party hierarchy until 2001, rising to the rank of general secretary.[c]\"\"\""
   ]
  },
  {
   "cell_type": "code",
   "execution_count": 3,
   "id": "22fb1e94",
   "metadata": {},
   "outputs": [
    {
     "data": {
      "text/plain": [
       "'Narendra Damodardas Modi (Gujarati: [ˈnəɾendɾə dɑmodəɾˈdɑs ˈmodiː] (listen); born 17 September 1950)[b] is an Indian politician who has served as the 14th Prime Minister of India since May 2014. Modi was the Chief Minister of Gujarat from 2001 to 2014 and is the Member of Parliament (MP) for Varanasi. He is a member of the Bharatiya Janata Party (BJP) and of the Rashtriya Swayamsevak Sangh (RSS), a right-wing Hindu nationalist paramilitary volunteer organisation. He is the longest-serving prime minister from outside the Indian National Congress.\\n\\nModi was born and raised in Vadnagar in northeastern Gujarat, where he completed his secondary education. He was introduced to the RSS at age eight. His account of helping his father sell tea at the Vadnagar railway station has not been reliably corroborated. At age 18, he was married to Jashodaben Modi, whom he abandoned soon after, only publicly acknowledging her four decades later when legally required to do so. Modi became a full-time worker for the RSS in Gujarat in 1971. The RSS assigned him to the BJP in 1985 and he held several positions within the party hierarchy until 2001, rising to the rank of general secretary.[c]'"
      ]
     },
     "execution_count": 3,
     "metadata": {},
     "output_type": "execute_result"
    }
   ],
   "source": [
    "paragraph"
   ]
  },
  {
   "cell_type": "code",
   "execution_count": 4,
   "id": "d19d361d",
   "metadata": {},
   "outputs": [],
   "source": [
    "#use nltk by installing basic libraries\n",
    "import nltk\n",
    "from nltk.stem import PorterStemmer # for performing stemming\n",
    "from nltk.corpus import stopwords"
   ]
  },
  {
   "cell_type": "code",
   "execution_count": 5,
   "id": "494f976b",
   "metadata": {},
   "outputs": [
    {
     "name": "stderr",
     "output_type": "stream",
     "text": [
      "[nltk_data] Downloading package punkt to\n",
      "[nltk_data]     C:\\Users\\HP\\AppData\\Roaming\\nltk_data...\n",
      "[nltk_data]   Package punkt is already up-to-date!\n"
     ]
    }
   ],
   "source": [
    "## tokenization- convert paragraph to sentences to words\n",
    "nltk.download('punkt') # package\n",
    "# convert the paragraph into sentences\n",
    "sentences=nltk.sent_tokenize(paragraph) # shift + tab in nltk.sent_tokenize() to know "
   ]
  },
  {
   "cell_type": "code",
   "execution_count": 6,
   "id": "c3d43e17",
   "metadata": {},
   "outputs": [
    {
     "data": {
      "text/plain": [
       "['Narendra Damodardas Modi (Gujarati: [ˈnəɾendɾə dɑmodəɾˈdɑs ˈmodiː] (listen); born 17 September 1950)[b] is an Indian politician who has served as the 14th Prime Minister of India since May 2014.',\n",
       " 'Modi was the Chief Minister of Gujarat from 2001 to 2014 and is the Member of Parliament (MP) for Varanasi.',\n",
       " 'He is a member of the Bharatiya Janata Party (BJP) and of the Rashtriya Swayamsevak Sangh (RSS), a right-wing Hindu nationalist paramilitary volunteer organisation.',\n",
       " 'He is the longest-serving prime minister from outside the Indian National Congress.',\n",
       " 'Modi was born and raised in Vadnagar in northeastern Gujarat, where he completed his secondary education.',\n",
       " 'He was introduced to the RSS at age eight.',\n",
       " 'His account of helping his father sell tea at the Vadnagar railway station has not been reliably corroborated.',\n",
       " 'At age 18, he was married to Jashodaben Modi, whom he abandoned soon after, only publicly acknowledging her four decades later when legally required to do so.',\n",
       " 'Modi became a full-time worker for the RSS in Gujarat in 1971.',\n",
       " 'The RSS assigned him to the BJP in 1985 and he held several positions within the party hierarchy until 2001, rising to the rank of general secretary.',\n",
       " '[c]']"
      ]
     },
     "execution_count": 6,
     "metadata": {},
     "output_type": "execute_result"
    }
   ],
   "source": [
    "sentences"
   ]
  },
  {
   "cell_type": "code",
   "execution_count": 7,
   "id": "38921d3a",
   "metadata": {},
   "outputs": [
    {
     "data": {
      "text/plain": [
       "list"
      ]
     },
     "execution_count": 7,
     "metadata": {},
     "output_type": "execute_result"
    }
   ],
   "source": [
    "type(sentences)"
   ]
  },
  {
   "cell_type": "code",
   "execution_count": 8,
   "id": "6100c9c5",
   "metadata": {},
   "outputs": [],
   "source": [
    "# Apply stemming (# helps to find the base root word)\n",
    "stemmer=PorterStemmer()"
   ]
  },
  {
   "cell_type": "code",
   "execution_count": 9,
   "id": "59161120",
   "metadata": {},
   "outputs": [
    {
     "data": {
      "text/plain": [
       "'cri'"
      ]
     },
     "execution_count": 9,
     "metadata": {},
     "output_type": "execute_result"
    }
   ],
   "source": [
    "stemmer.stem('crying')"
   ]
  },
  {
   "cell_type": "code",
   "execution_count": 10,
   "id": "fafc665c",
   "metadata": {},
   "outputs": [
    {
     "data": {
      "text/plain": [
       "'histori'"
      ]
     },
     "execution_count": 10,
     "metadata": {},
     "output_type": "execute_result"
    }
   ],
   "source": [
    "stemmer.stem('history')"
   ]
  },
  {
   "cell_type": "code",
   "execution_count": 11,
   "id": "005110dd",
   "metadata": {},
   "outputs": [
    {
     "name": "stderr",
     "output_type": "stream",
     "text": [
      "[nltk_data] Downloading package wordnet to\n",
      "[nltk_data]     C:\\Users\\HP\\AppData\\Roaming\\nltk_data...\n",
      "[nltk_data]   Package wordnet is already up-to-date!\n"
     ]
    },
    {
     "data": {
      "text/plain": [
       "True"
      ]
     },
     "execution_count": 11,
     "metadata": {},
     "output_type": "execute_result"
    }
   ],
   "source": [
    "import nltk ## for error in word net(# apply lematization)\n",
    "nltk.download('wordnet')\n",
    "\n"
   ]
  },
  {
   "cell_type": "code",
   "execution_count": 12,
   "id": "e9bc6d98",
   "metadata": {},
   "outputs": [],
   "source": [
    "# apply lematization\n",
    "from nltk.stem import WordNetLemmatizer"
   ]
  },
  {
   "cell_type": "code",
   "execution_count": 13,
   "id": "4e4f0955",
   "metadata": {},
   "outputs": [],
   "source": [
    "lemmatizer=WordNetLemmatizer()"
   ]
  },
  {
   "cell_type": "code",
   "execution_count": 14,
   "id": "a228de53",
   "metadata": {},
   "outputs": [
    {
     "data": {
      "text/plain": [
       "'go'"
      ]
     },
     "execution_count": 14,
     "metadata": {},
     "output_type": "execute_result"
    }
   ],
   "source": [
    "lemmatizer.lemmatize('goes')"
   ]
  },
  {
   "cell_type": "code",
   "execution_count": 15,
   "id": "f961b2f2",
   "metadata": {},
   "outputs": [
    {
     "data": {
      "text/plain": [
       "11"
      ]
     },
     "execution_count": 15,
     "metadata": {},
     "output_type": "execute_result"
    }
   ],
   "source": [
    "len(sentences)"
   ]
  },
  {
   "cell_type": "code",
   "execution_count": 16,
   "id": "e7e4cad2",
   "metadata": {},
   "outputs": [],
   "source": [
    "# clean the entire text ( remove the special character like brackets)\n",
    "# re.sub:-shift+ tab (after run)\n",
    "import re # regular expression\n",
    "corpus=[]\n",
    "for i in range(len(sentences)):\n",
    "    review=re.sub('[^a-zA-Z]',' ',sentences[i]) # i need to replace all the special character other than a-zand A-Z\n",
    "    #it means in  [re.sub()] whatever things we are getting from a-z replace them with blank space\n",
    "    review=review.lower() # all text chage to lower\n",
    "    corpus.append(review)"
   ]
  },
  {
   "cell_type": "code",
   "execution_count": 17,
   "id": "79670002",
   "metadata": {},
   "outputs": [
    {
     "data": {
      "text/plain": [
       "['narendra damodardas modi  gujarati    n  end   d mod   d s  modi    listen   born    september       b  is an indian politician who has served as the   th prime minister of india since may      ',\n",
       " 'modi was the chief minister of gujarat from      to      and is the member of parliament  mp  for varanasi ',\n",
       " 'he is a member of the bharatiya janata party  bjp  and of the rashtriya swayamsevak sangh  rss   a right wing hindu nationalist paramilitary volunteer organisation ',\n",
       " 'he is the longest serving prime minister from outside the indian national congress ',\n",
       " 'modi was born and raised in vadnagar in northeastern gujarat  where he completed his secondary education ',\n",
       " 'he was introduced to the rss at age eight ',\n",
       " 'his account of helping his father sell tea at the vadnagar railway station has not been reliably corroborated ',\n",
       " 'at age     he was married to jashodaben modi  whom he abandoned soon after  only publicly acknowledging her four decades later when legally required to do so ',\n",
       " 'modi became a full time worker for the rss in gujarat in      ',\n",
       " 'the rss assigned him to the bjp in      and he held several positions within the party hierarchy until       rising to the rank of general secretary ',\n",
       " ' c ']"
      ]
     },
     "execution_count": 17,
     "metadata": {},
     "output_type": "execute_result"
    }
   ],
   "source": [
    "corpus"
   ]
  },
  {
   "cell_type": "code",
   "execution_count": 18,
   "id": "a63b6687",
   "metadata": {},
   "outputs": [
    {
     "name": "stderr",
     "output_type": "stream",
     "text": [
      "[nltk_data] Downloading package stopwords to\n",
      "[nltk_data]     C:\\Users\\HP\\AppData\\Roaming\\nltk_data...\n",
      "[nltk_data]   Package stopwords is already up-to-date!\n"
     ]
    },
    {
     "data": {
      "text/plain": [
       "True"
      ]
     },
     "execution_count": 18,
     "metadata": {},
     "output_type": "execute_result"
    }
   ],
   "source": [
    "import nltk # error down stopwords not found\n",
    "nltk.download('stopwords')"
   ]
  },
  {
   "cell_type": "code",
   "execution_count": 19,
   "id": "150554aa",
   "metadata": {},
   "outputs": [
    {
     "name": "stdout",
     "output_type": "stream",
     "text": [
      "narendra\n",
      "damodarda\n",
      "modi\n",
      "gujarati\n",
      "n\n",
      "end\n",
      "mod\n",
      "modi\n",
      "listen\n",
      "born\n",
      "septemb\n",
      "b\n",
      "indian\n",
      "politician\n",
      "serv\n",
      "th\n",
      "prime\n",
      "minist\n",
      "india\n",
      "sinc\n",
      "may\n",
      "modi\n",
      "chief\n",
      "minist\n",
      "gujarat\n",
      "member\n",
      "parliament\n",
      "mp\n",
      "varanasi\n",
      "member\n",
      "bharatiya\n",
      "janata\n",
      "parti\n",
      "bjp\n",
      "rashtriya\n",
      "swayamsevak\n",
      "sangh\n",
      "rss\n",
      "right\n",
      "wing\n",
      "hindu\n",
      "nationalist\n",
      "paramilitari\n",
      "volunt\n",
      "organis\n",
      "longest\n",
      "serv\n",
      "prime\n",
      "minist\n",
      "outsid\n",
      "indian\n",
      "nation\n",
      "congress\n",
      "modi\n",
      "born\n",
      "rais\n",
      "vadnagar\n",
      "northeastern\n",
      "gujarat\n",
      "complet\n",
      "secondari\n",
      "educ\n",
      "introduc\n",
      "rss\n",
      "age\n",
      "eight\n",
      "account\n",
      "help\n",
      "father\n",
      "sell\n",
      "tea\n",
      "vadnagar\n",
      "railway\n",
      "station\n",
      "reliabl\n",
      "corrobor\n",
      "age\n",
      "marri\n",
      "jashodaben\n",
      "modi\n",
      "abandon\n",
      "soon\n",
      "publicli\n",
      "acknowledg\n",
      "four\n",
      "decad\n",
      "later\n",
      "legal\n",
      "requir\n",
      "modi\n",
      "becam\n",
      "full\n",
      "time\n",
      "worker\n",
      "rss\n",
      "gujarat\n",
      "rss\n",
      "assign\n",
      "bjp\n",
      "held\n",
      "sever\n",
      "posit\n",
      "within\n",
      "parti\n",
      "hierarchi\n",
      "rise\n",
      "rank\n",
      "gener\n",
      "secretari\n",
      "c\n"
     ]
    }
   ],
   "source": [
    "#### apply stemming on entire corpus after cleaning\n",
    "for i in corpus:\n",
    "    words=nltk.word_tokenize(i) # word_tokenize convert sentence into words\n",
    "    for word in words:\n",
    "        if word not in set(stopwords.words('english')): ## whatever words is not present in english stop words,  just apply stemming\n",
    "            print(stemmer.stem(word)) #convert to base word\n",
    "## out come - in every word we have applied stemming"
   ]
  },
  {
   "cell_type": "code",
   "execution_count": 20,
   "id": "4cf74c08",
   "metadata": {},
   "outputs": [
    {
     "data": {
      "text/plain": [
       "['i',\n",
       " 'me',\n",
       " 'my',\n",
       " 'myself',\n",
       " 'we',\n",
       " 'our',\n",
       " 'ours',\n",
       " 'ourselves',\n",
       " 'you',\n",
       " \"you're\",\n",
       " \"you've\",\n",
       " \"you'll\",\n",
       " \"you'd\",\n",
       " 'your',\n",
       " 'yours',\n",
       " 'yourself',\n",
       " 'yourselves',\n",
       " 'he',\n",
       " 'him',\n",
       " 'his',\n",
       " 'himself',\n",
       " 'she',\n",
       " \"she's\",\n",
       " 'her',\n",
       " 'hers',\n",
       " 'herself',\n",
       " 'it',\n",
       " \"it's\",\n",
       " 'its',\n",
       " 'itself',\n",
       " 'they',\n",
       " 'them',\n",
       " 'their',\n",
       " 'theirs',\n",
       " 'themselves',\n",
       " 'what',\n",
       " 'which',\n",
       " 'who',\n",
       " 'whom',\n",
       " 'this',\n",
       " 'that',\n",
       " \"that'll\",\n",
       " 'these',\n",
       " 'those',\n",
       " 'am',\n",
       " 'is',\n",
       " 'are',\n",
       " 'was',\n",
       " 'were',\n",
       " 'be',\n",
       " 'been',\n",
       " 'being',\n",
       " 'have',\n",
       " 'has',\n",
       " 'had',\n",
       " 'having',\n",
       " 'do',\n",
       " 'does',\n",
       " 'did',\n",
       " 'doing',\n",
       " 'a',\n",
       " 'an',\n",
       " 'the',\n",
       " 'and',\n",
       " 'but',\n",
       " 'if',\n",
       " 'or',\n",
       " 'because',\n",
       " 'as',\n",
       " 'until',\n",
       " 'while',\n",
       " 'of',\n",
       " 'at',\n",
       " 'by',\n",
       " 'for',\n",
       " 'with',\n",
       " 'about',\n",
       " 'against',\n",
       " 'between',\n",
       " 'into',\n",
       " 'through',\n",
       " 'during',\n",
       " 'before',\n",
       " 'after',\n",
       " 'above',\n",
       " 'below',\n",
       " 'to',\n",
       " 'from',\n",
       " 'up',\n",
       " 'down',\n",
       " 'in',\n",
       " 'out',\n",
       " 'on',\n",
       " 'off',\n",
       " 'over',\n",
       " 'under',\n",
       " 'again',\n",
       " 'further',\n",
       " 'then',\n",
       " 'once',\n",
       " 'here',\n",
       " 'there',\n",
       " 'when',\n",
       " 'where',\n",
       " 'why',\n",
       " 'how',\n",
       " 'all',\n",
       " 'any',\n",
       " 'both',\n",
       " 'each',\n",
       " 'few',\n",
       " 'more',\n",
       " 'most',\n",
       " 'other',\n",
       " 'some',\n",
       " 'such',\n",
       " 'no',\n",
       " 'nor',\n",
       " 'not',\n",
       " 'only',\n",
       " 'own',\n",
       " 'same',\n",
       " 'so',\n",
       " 'than',\n",
       " 'too',\n",
       " 'very',\n",
       " 's',\n",
       " 't',\n",
       " 'can',\n",
       " 'will',\n",
       " 'just',\n",
       " 'don',\n",
       " \"don't\",\n",
       " 'should',\n",
       " \"should've\",\n",
       " 'now',\n",
       " 'd',\n",
       " 'll',\n",
       " 'm',\n",
       " 'o',\n",
       " 're',\n",
       " 've',\n",
       " 'y',\n",
       " 'ain',\n",
       " 'aren',\n",
       " \"aren't\",\n",
       " 'couldn',\n",
       " \"couldn't\",\n",
       " 'didn',\n",
       " \"didn't\",\n",
       " 'doesn',\n",
       " \"doesn't\",\n",
       " 'hadn',\n",
       " \"hadn't\",\n",
       " 'hasn',\n",
       " \"hasn't\",\n",
       " 'haven',\n",
       " \"haven't\",\n",
       " 'isn',\n",
       " \"isn't\",\n",
       " 'ma',\n",
       " 'mightn',\n",
       " \"mightn't\",\n",
       " 'mustn',\n",
       " \"mustn't\",\n",
       " 'needn',\n",
       " \"needn't\",\n",
       " 'shan',\n",
       " \"shan't\",\n",
       " 'shouldn',\n",
       " \"shouldn't\",\n",
       " 'wasn',\n",
       " \"wasn't\",\n",
       " 'weren',\n",
       " \"weren't\",\n",
       " 'won',\n",
       " \"won't\",\n",
       " 'wouldn',\n",
       " \"wouldn't\"]"
      ]
     },
     "execution_count": 20,
     "metadata": {},
     "output_type": "execute_result"
    }
   ],
   "source": [
    "stopwords.words('english')"
   ]
  },
  {
   "cell_type": "code",
   "execution_count": 21,
   "id": "4149d285",
   "metadata": {},
   "outputs": [
    {
     "name": "stdout",
     "output_type": "stream",
     "text": [
      "narendra\n",
      "damodardas\n",
      "modi\n",
      "gujarati\n",
      "n\n",
      "end\n",
      "mod\n",
      "modi\n",
      "listen\n",
      "born\n",
      "september\n",
      "b\n",
      "indian\n",
      "politician\n",
      "served\n",
      "th\n",
      "prime\n",
      "minister\n",
      "india\n",
      "since\n",
      "may\n",
      "modi\n",
      "chief\n",
      "minister\n",
      "gujarat\n",
      "member\n",
      "parliament\n",
      "mp\n",
      "varanasi\n",
      "member\n",
      "bharatiya\n",
      "janata\n",
      "party\n",
      "bjp\n",
      "rashtriya\n",
      "swayamsevak\n",
      "sangh\n",
      "r\n",
      "right\n",
      "wing\n",
      "hindu\n",
      "nationalist\n",
      "paramilitary\n",
      "volunteer\n",
      "organisation\n",
      "longest\n",
      "serving\n",
      "prime\n",
      "minister\n",
      "outside\n",
      "indian\n",
      "national\n",
      "congress\n",
      "modi\n",
      "born\n",
      "raised\n",
      "vadnagar\n",
      "northeastern\n",
      "gujarat\n",
      "completed\n",
      "secondary\n",
      "education\n",
      "introduced\n",
      "r\n",
      "age\n",
      "eight\n",
      "account\n",
      "helping\n",
      "father\n",
      "sell\n",
      "tea\n",
      "vadnagar\n",
      "railway\n",
      "station\n",
      "reliably\n",
      "corroborated\n",
      "age\n",
      "married\n",
      "jashodaben\n",
      "modi\n",
      "abandoned\n",
      "soon\n",
      "publicly\n",
      "acknowledging\n",
      "four\n",
      "decade\n",
      "later\n",
      "legally\n",
      "required\n",
      "modi\n",
      "became\n",
      "full\n",
      "time\n",
      "worker\n",
      "r\n",
      "gujarat\n",
      "r\n",
      "assigned\n",
      "bjp\n",
      "held\n",
      "several\n",
      "position\n",
      "within\n",
      "party\n",
      "hierarchy\n",
      "rising\n",
      "rank\n",
      "general\n",
      "secretary\n",
      "c\n"
     ]
    }
   ],
   "source": [
    "### Lemmatization \n",
    "for i in corpus:\n",
    "    words=nltk.word_tokenize(i) \n",
    "    for word in words:\n",
    "        if word not in set(stopwords.words('english')): \n",
    "            print(lemmatizer.lemmatize(word))"
   ]
  },
  {
   "cell_type": "code",
   "execution_count": 22,
   "id": "daba1f39",
   "metadata": {},
   "outputs": [],
   "source": [
    "## for bag of words\n",
    "from sklearn.feature_extraction.text import CountVectorizer\n",
    "#cv=CountVectorizer(binary=True,ngram_range=(3,3)) # tri gram \n",
    "cv=CountVectorizer(binary=True,ngram_range=(2,3)) # both bi and tri gram"
   ]
  },
  {
   "cell_type": "code",
   "execution_count": 23,
   "id": "352709be",
   "metadata": {},
   "outputs": [],
   "source": [
    "X=cv.fit_transform(corpus)"
   ]
  },
  {
   "cell_type": "code",
   "execution_count": 25,
   "id": "544d1c7b",
   "metadata": {},
   "outputs": [
    {
     "data": {
      "text/plain": [
       "(11, 327)"
      ]
     },
     "execution_count": 25,
     "metadata": {},
     "output_type": "execute_result"
    }
   ],
   "source": [
    "X.shape"
   ]
  },
  {
   "cell_type": "code",
   "execution_count": 26,
   "id": "17b8f66e",
   "metadata": {
    "scrolled": true
   },
   "outputs": [
    {
     "data": {
      "text/plain": [
       "{'narendra damodardas': 170,\n",
       " 'damodardas modi': 48,\n",
       " 'modi gujarati': 159,\n",
       " 'gujarati end': 74,\n",
       " 'end mod': 53,\n",
       " 'mod modi': 155,\n",
       " 'modi listen': 161,\n",
       " 'listen born': 141,\n",
       " 'born september': 42,\n",
       " 'september is': 241,\n",
       " 'is an': 126,\n",
       " 'an indian': 11,\n",
       " 'indian politician': 122,\n",
       " 'politician who': 204,\n",
       " 'who has': 317,\n",
       " 'has served': 78,\n",
       " 'served as': 243,\n",
       " 'as the': 21,\n",
       " 'the th': 282,\n",
       " 'th prime': 258,\n",
       " 'prime minister': 208,\n",
       " 'minister of': 152,\n",
       " 'of india': 185,\n",
       " 'india since': 118,\n",
       " 'since may': 249,\n",
       " 'narendra damodardas modi': 171,\n",
       " 'damodardas modi gujarati': 49,\n",
       " 'modi gujarati end': 160,\n",
       " 'gujarati end mod': 75,\n",
       " 'end mod modi': 54,\n",
       " 'mod modi listen': 156,\n",
       " 'modi listen born': 162,\n",
       " 'listen born september': 142,\n",
       " 'born september is': 43,\n",
       " 'september is an': 242,\n",
       " 'is an indian': 127,\n",
       " 'an indian politician': 12,\n",
       " 'indian politician who': 123,\n",
       " 'politician who has': 205,\n",
       " 'who has served': 318,\n",
       " 'has served as': 79,\n",
       " 'served as the': 244,\n",
       " 'as the th': 22,\n",
       " 'the th prime': 283,\n",
       " 'th prime minister': 259,\n",
       " 'prime minister of': 210,\n",
       " 'minister of india': 154,\n",
       " 'of india since': 186,\n",
       " 'india since may': 119,\n",
       " 'modi was': 163,\n",
       " 'was the': 311,\n",
       " 'the chief': 264,\n",
       " 'chief minister': 44,\n",
       " 'of gujarat': 181,\n",
       " 'gujarat from': 69,\n",
       " 'from to': 64,\n",
       " 'to and': 288,\n",
       " 'and is': 15,\n",
       " 'is the': 130,\n",
       " 'the member': 270,\n",
       " 'member of': 147,\n",
       " 'of parliament': 187,\n",
       " 'parliament mp': 198,\n",
       " 'mp for': 168,\n",
       " 'for varanasi': 59,\n",
       " 'modi was the': 165,\n",
       " 'was the chief': 312,\n",
       " 'the chief minister': 265,\n",
       " 'chief minister of': 45,\n",
       " 'minister of gujarat': 153,\n",
       " 'of gujarat from': 182,\n",
       " 'gujarat from to': 70,\n",
       " 'from to and': 65,\n",
       " 'to and is': 289,\n",
       " 'and is the': 16,\n",
       " 'is the member': 132,\n",
       " 'the member of': 271,\n",
       " 'member of parliament': 148,\n",
       " 'of parliament mp': 188,\n",
       " 'parliament mp for': 199,\n",
       " 'mp for varanasi': 169,\n",
       " 'he is': 86,\n",
       " 'is member': 128,\n",
       " 'of the': 189,\n",
       " 'the bharatiya': 260,\n",
       " 'bharatiya janata': 34,\n",
       " 'janata party': 133,\n",
       " 'party bjp': 200,\n",
       " 'bjp and': 36,\n",
       " 'and of': 17,\n",
       " 'the rashtriya': 276,\n",
       " 'rashtriya swayamsevak': 219,\n",
       " 'swayamsevak sangh': 254,\n",
       " 'sangh rss': 236,\n",
       " 'rss right': 234,\n",
       " 'right wing': 224,\n",
       " 'wing hindu': 321,\n",
       " 'hindu nationalist': 102,\n",
       " 'nationalist paramilitary': 173,\n",
       " 'paramilitary volunteer': 196,\n",
       " 'volunteer organisation': 304,\n",
       " 'he is member': 87,\n",
       " 'is member of': 129,\n",
       " 'member of the': 149,\n",
       " 'of the bharatiya': 190,\n",
       " 'the bharatiya janata': 261,\n",
       " 'bharatiya janata party': 35,\n",
       " 'janata party bjp': 134,\n",
       " 'party bjp and': 201,\n",
       " 'bjp and of': 37,\n",
       " 'and of the': 18,\n",
       " 'of the rashtriya': 191,\n",
       " 'the rashtriya swayamsevak': 277,\n",
       " 'rashtriya swayamsevak sangh': 220,\n",
       " 'swayamsevak sangh rss': 255,\n",
       " 'sangh rss right': 237,\n",
       " 'rss right wing': 235,\n",
       " 'right wing hindu': 225,\n",
       " 'wing hindu nationalist': 322,\n",
       " 'hindu nationalist paramilitary': 103,\n",
       " 'nationalist paramilitary volunteer': 174,\n",
       " 'paramilitary volunteer organisation': 197,\n",
       " 'the longest': 268,\n",
       " 'longest serving': 143,\n",
       " 'serving prime': 245,\n",
       " 'minister from': 150,\n",
       " 'from outside': 62,\n",
       " 'outside the': 194,\n",
       " 'the indian': 266,\n",
       " 'indian national': 120,\n",
       " 'national congress': 172,\n",
       " 'he is the': 88,\n",
       " 'is the longest': 131,\n",
       " 'the longest serving': 269,\n",
       " 'longest serving prime': 144,\n",
       " 'serving prime minister': 246,\n",
       " 'prime minister from': 209,\n",
       " 'minister from outside': 151,\n",
       " 'from outside the': 63,\n",
       " 'outside the indian': 195,\n",
       " 'the indian national': 267,\n",
       " 'indian national congress': 121,\n",
       " 'was born': 305,\n",
       " 'born and': 40,\n",
       " 'and raised': 19,\n",
       " 'raised in': 215,\n",
       " 'in vadnagar': 116,\n",
       " 'vadnagar in': 300,\n",
       " 'in northeastern': 114,\n",
       " 'northeastern gujarat': 175,\n",
       " 'gujarat where': 72,\n",
       " 'where he': 315,\n",
       " 'he completed': 82,\n",
       " 'completed his': 46,\n",
       " 'his secondary': 108,\n",
       " 'secondary education': 238,\n",
       " 'modi was born': 164,\n",
       " 'was born and': 306,\n",
       " 'born and raised': 41,\n",
       " 'and raised in': 20,\n",
       " 'raised in vadnagar': 216,\n",
       " 'in vadnagar in': 117,\n",
       " 'vadnagar in northeastern': 301,\n",
       " 'in northeastern gujarat': 115,\n",
       " 'northeastern gujarat where': 176,\n",
       " 'gujarat where he': 73,\n",
       " 'where he completed': 316,\n",
       " 'he completed his': 83,\n",
       " 'completed his secondary': 47,\n",
       " 'his secondary education': 109,\n",
       " 'he was': 89,\n",
       " 'was introduced': 307,\n",
       " 'introduced to': 124,\n",
       " 'to the': 294,\n",
       " 'the rss': 278,\n",
       " 'rss at': 230,\n",
       " 'at age': 25,\n",
       " 'age eight': 8,\n",
       " 'he was introduced': 90,\n",
       " 'was introduced to': 308,\n",
       " 'introduced to the': 125,\n",
       " 'to the rss': 297,\n",
       " 'the rss at': 280,\n",
       " 'rss at age': 231,\n",
       " 'at age eight': 26,\n",
       " 'his account': 104,\n",
       " 'account of': 2,\n",
       " 'of helping': 183,\n",
       " 'helping his': 94,\n",
       " 'his father': 106,\n",
       " 'father sell': 55,\n",
       " 'sell tea': 239,\n",
       " 'tea at': 256,\n",
       " 'at the': 28,\n",
       " 'the vadnagar': 284,\n",
       " 'vadnagar railway': 302,\n",
       " 'railway station': 213,\n",
       " 'station has': 252,\n",
       " 'has not': 76,\n",
       " 'not been': 177,\n",
       " 'been reliably': 32,\n",
       " 'reliably corroborated': 221,\n",
       " 'his account of': 105,\n",
       " 'account of helping': 3,\n",
       " 'of helping his': 184,\n",
       " 'helping his father': 95,\n",
       " 'his father sell': 107,\n",
       " 'father sell tea': 56,\n",
       " 'sell tea at': 240,\n",
       " 'tea at the': 257,\n",
       " 'at the vadnagar': 29,\n",
       " 'the vadnagar railway': 285,\n",
       " 'vadnagar railway station': 303,\n",
       " 'railway station has': 214,\n",
       " 'station has not': 253,\n",
       " 'has not been': 77,\n",
       " 'not been reliably': 178,\n",
       " 'been reliably corroborated': 33,\n",
       " 'age he': 9,\n",
       " 'was married': 309,\n",
       " 'married to': 145,\n",
       " 'to jashodaben': 292,\n",
       " 'jashodaben modi': 135,\n",
       " 'modi whom': 166,\n",
       " 'whom he': 319,\n",
       " 'he abandoned': 80,\n",
       " 'abandoned soon': 0,\n",
       " 'soon after': 250,\n",
       " 'after only': 6,\n",
       " 'only publicly': 192,\n",
       " 'publicly acknowledging': 211,\n",
       " 'acknowledging her': 4,\n",
       " 'her four': 96,\n",
       " 'four decades': 60,\n",
       " 'decades later': 50,\n",
       " 'later when': 137,\n",
       " 'when legally': 313,\n",
       " 'legally required': 139,\n",
       " 'required to': 222,\n",
       " 'to do': 290,\n",
       " 'do so': 52,\n",
       " 'at age he': 27,\n",
       " 'age he was': 10,\n",
       " 'he was married': 91,\n",
       " 'was married to': 310,\n",
       " 'married to jashodaben': 146,\n",
       " 'to jashodaben modi': 293,\n",
       " 'jashodaben modi whom': 136,\n",
       " 'modi whom he': 167,\n",
       " 'whom he abandoned': 320,\n",
       " 'he abandoned soon': 81,\n",
       " 'abandoned soon after': 1,\n",
       " 'soon after only': 251,\n",
       " 'after only publicly': 7,\n",
       " 'only publicly acknowledging': 193,\n",
       " 'publicly acknowledging her': 212,\n",
       " 'acknowledging her four': 5,\n",
       " 'her four decades': 97,\n",
       " 'four decades later': 61,\n",
       " 'decades later when': 51,\n",
       " 'later when legally': 138,\n",
       " 'when legally required': 314,\n",
       " 'legally required to': 140,\n",
       " 'required to do': 223,\n",
       " 'to do so': 291,\n",
       " 'modi became': 157,\n",
       " 'became full': 30,\n",
       " 'full time': 66,\n",
       " 'time worker': 286,\n",
       " 'worker for': 325,\n",
       " 'for the': 57,\n",
       " 'rss in': 232,\n",
       " 'in gujarat': 112,\n",
       " 'gujarat in': 71,\n",
       " 'modi became full': 158,\n",
       " 'became full time': 31,\n",
       " 'full time worker': 67,\n",
       " 'time worker for': 287,\n",
       " 'worker for the': 326,\n",
       " 'for the rss': 58,\n",
       " 'the rss in': 281,\n",
       " 'rss in gujarat': 233,\n",
       " 'in gujarat in': 113,\n",
       " 'rss assigned': 228,\n",
       " 'assigned him': 23,\n",
       " 'him to': 100,\n",
       " 'the bjp': 262,\n",
       " 'bjp in': 38,\n",
       " 'in and': 110,\n",
       " 'and he': 13,\n",
       " 'he held': 84,\n",
       " 'held several': 92,\n",
       " 'several positions': 247,\n",
       " 'positions within': 206,\n",
       " 'within the': 323,\n",
       " 'the party': 272,\n",
       " 'party hierarchy': 202,\n",
       " 'hierarchy until': 98,\n",
       " 'until rising': 298,\n",
       " 'rising to': 226,\n",
       " 'the rank': 274,\n",
       " 'rank of': 217,\n",
       " 'of general': 179,\n",
       " 'general secretary': 68,\n",
       " 'the rss assigned': 279,\n",
       " 'rss assigned him': 229,\n",
       " 'assigned him to': 24,\n",
       " 'him to the': 101,\n",
       " 'to the bjp': 295,\n",
       " 'the bjp in': 263,\n",
       " 'bjp in and': 39,\n",
       " 'in and he': 111,\n",
       " 'and he held': 14,\n",
       " 'he held several': 85,\n",
       " 'held several positions': 93,\n",
       " 'several positions within': 248,\n",
       " 'positions within the': 207,\n",
       " 'within the party': 324,\n",
       " 'the party hierarchy': 273,\n",
       " 'party hierarchy until': 203,\n",
       " 'hierarchy until rising': 99,\n",
       " 'until rising to': 299,\n",
       " 'rising to the': 227,\n",
       " 'to the rank': 296,\n",
       " 'the rank of': 275,\n",
       " 'rank of general': 218,\n",
       " 'of general secretary': 180}"
      ]
     },
     "execution_count": 26,
     "metadata": {},
     "output_type": "execute_result"
    }
   ],
   "source": [
    "cv.vocabulary_  #1 - only trigram\n",
    "                #2 - first bi gram then tri gram"
   ]
  },
  {
   "cell_type": "code",
   "execution_count": 27,
   "id": "a3db3de2",
   "metadata": {},
   "outputs": [
    {
     "data": {
      "text/plain": [
       "'narendra damodardas modi  gujarati    n  end   d mod   d s  modi    listen   born    september       b  is an indian politician who has served as the   th prime minister of india since may      '"
      ]
     },
     "execution_count": 27,
     "metadata": {},
     "output_type": "execute_result"
    }
   ],
   "source": [
    "# bow of words for the first text or first sentence\n",
    "corpus[0]\n"
   ]
  },
  {
   "cell_type": "code",
   "execution_count": 28,
   "id": "f17d0157",
   "metadata": {},
   "outputs": [
    {
     "data": {
      "text/plain": [
       "array([[0, 0, 0, 0, 0, 0, 0, 0, 0, 0, 0, 1, 1, 0, 0, 0, 0, 0, 0, 0, 0, 1,\n",
       "        1, 0, 0, 0, 0, 0, 0, 0, 0, 0, 0, 0, 0, 0, 0, 0, 0, 0, 0, 0, 1, 1,\n",
       "        0, 0, 0, 0, 1, 1, 0, 0, 0, 1, 1, 0, 0, 0, 0, 0, 0, 0, 0, 0, 0, 0,\n",
       "        0, 0, 0, 0, 0, 0, 0, 0, 1, 1, 0, 0, 1, 1, 0, 0, 0, 0, 0, 0, 0, 0,\n",
       "        0, 0, 0, 0, 0, 0, 0, 0, 0, 0, 0, 0, 0, 0, 0, 0, 0, 0, 0, 0, 0, 0,\n",
       "        0, 0, 0, 0, 0, 0, 0, 0, 1, 1, 0, 0, 1, 1, 0, 0, 1, 1, 0, 0, 0, 0,\n",
       "        0, 0, 0, 0, 0, 0, 0, 0, 0, 1, 1, 0, 0, 0, 0, 0, 0, 0, 0, 0, 1, 0,\n",
       "        1, 1, 1, 0, 0, 1, 1, 1, 1, 0, 0, 0, 0, 0, 0, 0, 1, 1, 0, 0, 0, 0,\n",
       "        0, 0, 0, 0, 0, 0, 0, 0, 0, 1, 1, 0, 0, 0, 0, 0, 0, 0, 0, 0, 0, 0,\n",
       "        0, 0, 0, 0, 0, 0, 1, 1, 0, 0, 1, 0, 1, 0, 0, 0, 0, 0, 0, 0, 0, 0,\n",
       "        0, 0, 0, 0, 0, 0, 0, 0, 0, 0, 0, 0, 0, 0, 0, 0, 0, 0, 0, 0, 0, 1,\n",
       "        1, 1, 1, 0, 0, 0, 0, 1, 0, 0, 0, 0, 0, 0, 0, 0, 1, 1, 0, 0, 0, 0,\n",
       "        0, 0, 0, 0, 0, 0, 0, 0, 0, 0, 0, 0, 0, 0, 0, 0, 0, 0, 1, 1, 0, 0,\n",
       "        0, 0, 0, 0, 0, 0, 0, 0, 0, 0, 0, 0, 0, 0, 0, 0, 0, 0, 0, 0, 0, 0,\n",
       "        0, 0, 0, 0, 0, 0, 0, 0, 0, 1, 1, 0, 0, 0, 0, 0, 0, 0, 0]],\n",
       "      dtype=int64)"
      ]
     },
     "execution_count": 28,
     "metadata": {},
     "output_type": "execute_result"
    }
   ],
   "source": [
    "# how bow is created\n",
    "X[0].toarray()\n"
   ]
  },
  {
   "cell_type": "code",
   "execution_count": 30,
   "id": "ab9c90a7",
   "metadata": {},
   "outputs": [],
   "source": [
    "### TFIDF\n",
    "from sklearn.feature_extraction.text import TfidfVectorizer\n",
    "cv=TfidfVectorizer(ngram_range=(3,3) ,max_features=10) # from  sklearn (only trigram),max features= top 3 max features \n",
    "x=cv.fit_transform(corpus)"
   ]
  },
  {
   "cell_type": "code",
   "execution_count": 31,
   "id": "9c5c6566",
   "metadata": {},
   "outputs": [
    {
     "data": {
      "text/plain": [
       "'narendra damodardas modi  gujarati    n  end   d mod   d s  modi    listen   born    september       b  is an indian politician who has served as the   th prime minister of india since may      '"
      ]
     },
     "execution_count": 31,
     "metadata": {},
     "output_type": "execute_result"
    }
   ],
   "source": [
    "corpus[0]"
   ]
  },
  {
   "cell_type": "code",
   "execution_count": 32,
   "id": "f55774e1",
   "metadata": {},
   "outputs": [
    {
     "data": {
      "text/plain": [
       "array([[0., 0., 0., 1., 0., 0., 0., 0., 0., 0.]])"
      ]
     },
     "execution_count": 32,
     "metadata": {},
     "output_type": "execute_result"
    }
   ],
   "source": [
    "x[0].toarray() # to convert to array"
   ]
  },
  {
   "cell_type": "code",
   "execution_count": null,
   "id": "af8e2c75",
   "metadata": {},
   "outputs": [],
   "source": []
  }
 ],
 "metadata": {
  "kernelspec": {
   "display_name": "Python 3 (ipykernel)",
   "language": "python",
   "name": "python3"
  },
  "language_info": {
   "codemirror_mode": {
    "name": "ipython",
    "version": 3
   },
   "file_extension": ".py",
   "mimetype": "text/x-python",
   "name": "python",
   "nbconvert_exporter": "python",
   "pygments_lexer": "ipython3",
   "version": "3.10.9"
  }
 },
 "nbformat": 4,
 "nbformat_minor": 5
}
